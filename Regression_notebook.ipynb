{
 "cells": [
  {
   "cell_type": "markdown",
   "metadata": {},
   "source": [
    "## Import Library"
   ]
  },
  {
   "cell_type": "code",
   "execution_count": 1,
   "metadata": {},
   "outputs": [],
   "source": [
    "import requests\n",
    "import pandas as pd\n",
    "import scipy\n",
    "import numpy as np\n",
    "import sys"
   ]
  },
  {
   "cell_type": "markdown",
   "metadata": {},
   "source": [
    "## Training data import"
   ]
  },
  {
   "cell_type": "code",
   "execution_count": 2,
   "metadata": {},
   "outputs": [],
   "source": [
    "Train = pd.read_csv(\"https://storage.googleapis.com/kubric-hiring/linreg_train.csv\")\n",
    "train = Train.T\n",
    "train = train.reset_index()\n",
    "train.columns =['Area', 'Prices']\n",
    "train.drop(0,inplace=True)\n",
    "X = train['Area'].apply(lambda x: float(x))\n",
    "Y = train['Prices'].apply(lambda y: float(y))"
   ]
  },
  {
   "cell_type": "markdown",
   "metadata": {},
   "source": [
    "## Model Training"
   ]
  },
  {
   "cell_type": "code",
   "execution_count": 3,
   "metadata": {},
   "outputs": [
    {
     "name": "stdout",
     "output_type": "stream",
     "text": [
      "[1863.71075981  384.05161104]\n"
     ]
    }
   ],
   "source": [
    "x = (X - X.mean()) / X.std()\n",
    "x = np.c_[np.ones(x.shape[0]), x] \n",
    "\n",
    "alpha = 0.01 #Step size\n",
    "iterations = 2000 #No. of iterations\n",
    "m = Y.size #No. of data points\n",
    "np.random.seed(123) #Set the seed\n",
    "theta = np.random.rand(2) #Pick some random values to start with\n",
    "\n",
    "\n",
    "#GRADIENT DESCENT\n",
    "def gradient_descent(x, y, theta, iterations, alpha):\n",
    "    past_costs = []\n",
    "    past_thetas = [theta]\n",
    "    for i in range(iterations):\n",
    "        prediction = np.dot(x, theta)\n",
    "        error = prediction - y\n",
    "        cost = 1/(2*m) * np.dot(error.T, error)\n",
    "        past_costs.append(cost)\n",
    "        theta = theta - (alpha * (1/m) * np.dot(x.T, error))\n",
    "        past_thetas.append(theta)\n",
    "        \n",
    "    return past_thetas, past_costs\n",
    "\n",
    "#Pass the relevant variables to the function and get the new values back...\n",
    "past_thetas, past_costs = gradient_descent(x, Y, theta, iterations, alpha)\n",
    "theta = past_thetas[-1]\n",
    "\n",
    "#Print the results...\n",
    "print(theta)"
   ]
  },
  {
   "cell_type": "markdown",
   "metadata": {},
   "source": [
    "## Predict function"
   ]
  },
  {
   "cell_type": "code",
   "execution_count": 4,
   "metadata": {},
   "outputs": [],
   "source": [
    "def predict_price(area):\n",
    "    Intercept = 1863.71 \n",
    "    slope = 384.05\n",
    "    w = [Intercept, slope]\n",
    "    x1 = (area - area.mean()) / area.std()\n",
    "    x1 = np.c_[np.ones(x1.shape[0]), x1] \n",
    "    pred_price = x1.dot(w)\n",
    "    return pred_price"
   ]
  },
  {
   "cell_type": "markdown",
   "metadata": {},
   "source": [
    "### Test Data"
   ]
  },
  {
   "cell_type": "code",
   "execution_count": 5,
   "metadata": {},
   "outputs": [],
   "source": [
    "Test = pd.read_csv(\"https://storage.googleapis.com/kubric-hiring/linreg_test.csv\")\n",
    "test = Test.T\n",
    "test = test.reset_index()\n",
    "test.columns =['Area', 'Prices']\n",
    "test.drop(0,inplace=True)\n",
    "areas = test['Area'].apply(lambda x: float(x))\n",
    "prices = test['Prices'].apply(lambda y: float(y)).to_list()"
   ]
  },
  {
   "cell_type": "markdown",
   "metadata": {},
   "source": [
    "## Model Performance"
   ]
  },
  {
   "cell_type": "code",
   "execution_count": 6,
   "metadata": {},
   "outputs": [
    {
     "name": "stdout",
     "output_type": "stream",
     "text": [
      "Success. RMSE = 143.8229886640347\n"
     ]
    }
   ],
   "source": [
    "\n",
    "predicted_prices = predict_price(areas)\n",
    "rmse = np.sqrt(np.mean((predicted_prices - prices) ** 2))\n",
    "try:\n",
    "    assert rmse < 170\n",
    "except AssertionError:\n",
    "    print(f\"Root mean squared error is too high - {rmse}. Expected it to be under 170\")\n",
    "    sys.exit(1)\n",
    "print(f\"Success. RMSE = {rmse}\")"
   ]
  },
  {
   "cell_type": "code",
   "execution_count": null,
   "metadata": {},
   "outputs": [],
   "source": []
  }
 ],
 "metadata": {
  "kernelspec": {
   "display_name": "Python 3",
   "language": "python",
   "name": "python3"
  },
  "language_info": {
   "codemirror_mode": {
    "name": "ipython",
    "version": 3
   },
   "file_extension": ".py",
   "mimetype": "text/x-python",
   "name": "python",
   "nbconvert_exporter": "python",
   "pygments_lexer": "ipython3",
   "version": "3.7.4"
  }
 },
 "nbformat": 4,
 "nbformat_minor": 4
}
